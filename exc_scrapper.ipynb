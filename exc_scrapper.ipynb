{
 "cells": [
  {
   "cell_type": "markdown",
   "metadata": {},
   "source": [
    "# Exchange Rates Web Scapper 💱⛏️\n",
    "\n",
    "Zhi Chao\n",
    "\n",
    "*Data scrapped from __https://www.x-rates.com/__*"
   ]
  },
  {
   "cell_type": "markdown",
   "metadata": {},
   "source": [
    "##### Import required libraries"
   ]
  },
  {
   "cell_type": "code",
   "execution_count": 12,
   "metadata": {},
   "outputs": [],
   "source": [
    "from bs4 import BeautifulSoup\n",
    "import requests\n",
    "import pandas as pd\n",
    "import datetime\n",
    "import os\n",
    "import sys"
   ]
  },
  {
   "cell_type": "markdown",
   "metadata": {},
   "source": [
    "##### Link for HTTP GET requests"
   ]
  },
  {
   "cell_type": "code",
   "execution_count": 13,
   "metadata": {},
   "outputs": [],
   "source": [
    "exc_link = \"https://www.x-rates.com/historical/?from=CURR&amount=1&date=YYYYMMDD\"\n",
    "def generate_link( base, currency, date ):\n",
    "    return base.replace(\"CURR\",currency).replace(\"YYYYMMDD\",date)"
   ]
  },
  {
   "cell_type": "markdown",
   "metadata": {},
   "source": [
    "##### Function to scrape by day 🌞"
   ]
  },
  {
   "cell_type": "code",
   "execution_count": 14,
   "metadata": {},
   "outputs": [],
   "source": [
    "def daily_exc( cur, dateobj ):\n",
    "    \n",
    "    # format and extract date\n",
    "    date = dateobj.strftime( \"%Y-%m-%d\" )\n",
    "    yyyy = dateobj.year\n",
    "    mm = dateobj.month\n",
    "    dd = dateobj.day\n",
    "\n",
    "    # http req using link for specified currency and date\n",
    "    exc_day = generate_link( exc_link, cur, date )\n",
    "    reqday = requests.get( exc_day )\n",
    "    soupday = BeautifulSoup( reqday.content, \"html.parser\" )\n",
    "\n",
    "    # exclude top 10 currencies else they will be repeated\n",
    "    all_exc = soupday.select( \"td a\" )[20:]\n",
    "    relev_exc = { \"year\" : yyyy, \"month\" : mm, \"day\" : dd }\n",
    "\n",
    "    for exc in all_exc:\n",
    "        if f'from={cur}' in exc.get(\"href\"):\n",
    "            href = exc.get( \"href\" )\n",
    "            to_cur = href.split( sep = \"to=\" )[1]\n",
    "            relev_exc[f'{cur} to {to_cur}'] = [exc.getText()]\n",
    "\n",
    "    return pd.DataFrame(relev_exc)"
   ]
  },
  {
   "cell_type": "markdown",
   "metadata": {},
   "source": [
    "##### Function to scrape by year 📆"
   ]
  },
  {
   "cell_type": "code",
   "execution_count": 15,
   "metadata": {},
   "outputs": [],
   "source": [
    "def yearly_exc( cur, year ):\n",
    "\n",
    "    start_d = datetime.date( year, 1, 1 )\n",
    "    end_d = datetime.date( year, 12, 31 )\n",
    "\n",
    "    final = pd.DataFrame()\n",
    "\n",
    "    while start_d <= end_d:\n",
    "\n",
    "        exc_day = daily_exc( cur, start_d )\n",
    "        final = pd.concat([final, pd.DataFrame(exc_day)])\n",
    "\n",
    "        start_d += datetime.timedelta( days=1 )\n",
    "\n",
    "    return final"
   ]
  },
  {
   "cell_type": "markdown",
   "metadata": {},
   "source": [
    "### Testing Out! 😄😎😎"
   ]
  },
  {
   "cell_type": "markdown",
   "metadata": {},
   "source": [
    "Running the code chunk below will scrape and save the data to current directory as .xlsx file\n",
    "\n",
    "Indicate desired currency, type (daily or yearly), start/end date\n",
    "\n",
    "**Scrapping by year might take a long time to run ❗❗❗**"
   ]
  },
  {
   "cell_type": "markdown",
   "metadata": {},
   "source": [
    "##### Currency and Type"
   ]
  },
  {
   "cell_type": "code",
   "execution_count": 16,
   "metadata": {},
   "outputs": [],
   "source": [
    "currency = \"CNY\"\n",
    "type = \"daily\""
   ]
  },
  {
   "cell_type": "markdown",
   "metadata": {},
   "source": [
    "##### For daily"
   ]
  },
  {
   "cell_type": "code",
   "execution_count": 17,
   "metadata": {},
   "outputs": [],
   "source": [
    "year = 2016\n",
    "month = 2\n",
    "day = 16"
   ]
  },
  {
   "cell_type": "markdown",
   "metadata": {},
   "source": [
    "##### For yearly"
   ]
  },
  {
   "cell_type": "code",
   "execution_count": 18,
   "metadata": {},
   "outputs": [],
   "source": [
    "start = 2022\n",
    "end = 2023"
   ]
  },
  {
   "cell_type": "markdown",
   "metadata": {},
   "source": [
    "##### Main function"
   ]
  },
  {
   "cell_type": "code",
   "execution_count": 19,
   "metadata": {},
   "outputs": [
    {
     "name": "stdout",
     "output_type": "stream",
     "text": [
      "Saved\n"
     ]
    }
   ],
   "source": [
    "if type==\"yearly\":\n",
    "    with pd.ExcelWriter(f'./{currency} Exchange Rates {start}-{end}.xlsx', engine=\"openpyxl\", mode=\"w\") as writer:\n",
    "        for year in range( start, end ):\n",
    "            exc_year = yearly_exc( currency, year )\n",
    "            exc_year.to_excel( writer, sheet_name = f'{currency} {year}', index = False )\n",
    "    print(\"Saved\")\n",
    "else:\n",
    "    exc_day = daily_exc(currency, datetime.date(year, month, day))\n",
    "    with pd.ExcelWriter(f'./{currency} Exchange Rates {year}-{month}-{day}.xlsx', engine=\"openpyxl\", mode=\"w\") as writer:\n",
    "        exc_day.to_excel( writer, sheet_name = f'{currency} {year}-{month}-{day}', index = False )\n",
    "    print(\"Saved\")"
   ]
  },
  {
   "cell_type": "markdown",
   "metadata": {},
   "source": [
    "After saving, can visualize the data in the R Markdown file! 😄😄"
   ]
  }
 ],
 "metadata": {
  "kernelspec": {
   "display_name": "Python 3",
   "language": "python",
   "name": "python3"
  },
  "language_info": {
   "codemirror_mode": {
    "name": "ipython",
    "version": 3
   },
   "file_extension": ".py",
   "mimetype": "text/x-python",
   "name": "python",
   "nbconvert_exporter": "python",
   "pygments_lexer": "ipython3",
   "version": "3.11.4"
  }
 },
 "nbformat": 4,
 "nbformat_minor": 2
}
